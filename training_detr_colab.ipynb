{
  "nbformat": 4,
  "nbformat_minor": 0,
  "metadata": {
    "colab": {
      "name": "training-detr-colab.ipynb",
      "provenance": [],
      "collapsed_sections": [],
      "toc_visible": true,
      "authorship_tag": "ABX9TyPpatiKNa72sW9Jt8mMGgB+",
      "include_colab_link": true
    },
    "kernelspec": {
      "name": "python3",
      "display_name": "Python 3"
    }
  },
  "cells": [
    {
      "cell_type": "markdown",
      "metadata": {
        "id": "view-in-github",
        "colab_type": "text"
      },
      "source": [
        "<a href=\"https://colab.research.google.com/github/lessw2020/training-detr/blob/master/training_detr_colab.ipynb\" target=\"_parent\"><img src=\"https://colab.research.google.com/assets/colab-badge.svg\" alt=\"Open In Colab\"/></a>"
      ]
    },
    {
      "cell_type": "code",
      "metadata": {
        "id": "NCiJfalnicoB",
        "colab_type": "code",
        "colab": {}
      },
      "source": [
        "# Example of how to setup and train your own custom dataset using DETR\n",
        "# In this notebook, we'll do fine tuning of the existing head\n",
        "# For larger datasets (say > 10K images) training from scratch may be preferred and we'll do a different notebook for that\n",
        "\n"
      ],
      "execution_count": 0,
      "outputs": []
    },
    {
      "cell_type": "code",
      "metadata": {
        "id": "jQQ4ZxTViqM6",
        "colab_type": "code",
        "colab": {}
      },
      "source": [
        "# Credit to @alcinos and @fmassa for their insights, help and for making DETR :) and @mlk1337 and @raviv for additional input \n",
        "# thread on custom training with DETR is here:  \n",
        "# https://github.com/facebookresearch/detr/issues/9"
      ],
      "execution_count": 0,
      "outputs": []
    },
    {
      "cell_type": "markdown",
      "metadata": {
        "id": "j8WA1xhIjcpF",
        "colab_type": "text"
      },
      "source": [
        "# Setup PyTorch environment and DETR"
      ]
    },
    {
      "cell_type": "code",
      "metadata": {
        "id": "kIb5jYdJjkeE",
        "colab_type": "code",
        "colab": {
          "base_uri": "https://localhost:8080/",
          "height": 102
        },
        "outputId": "03df1dd5-7a3f-40ac-f31e-b1ae5f78e638"
      },
      "source": [
        "!pip install torch torchvision\n"
      ],
      "execution_count": 1,
      "outputs": [
        {
          "output_type": "stream",
          "text": [
            "Requirement already satisfied: torch in /usr/local/lib/python3.6/dist-packages (1.5.0+cu101)\n",
            "Requirement already satisfied: torchvision in /usr/local/lib/python3.6/dist-packages (0.6.0+cu101)\n",
            "Requirement already satisfied: numpy in /usr/local/lib/python3.6/dist-packages (from torch) (1.18.5)\n",
            "Requirement already satisfied: future in /usr/local/lib/python3.6/dist-packages (from torch) (0.16.0)\n",
            "Requirement already satisfied: pillow>=4.1.1 in /usr/local/lib/python3.6/dist-packages (from torchvision) (7.0.0)\n"
          ],
          "name": "stdout"
        }
      ]
    },
    {
      "cell_type": "code",
      "metadata": {
        "id": "4M0S4GIHj3qE",
        "colab_type": "code",
        "colab": {
          "base_uri": "https://localhost:8080/",
          "height": 34
        },
        "outputId": "f7c29752-56fe-4002-f2a8-33d11c35e25b"
      },
      "source": [
        "import torch; \n",
        "torch_version = torch.__version__\n",
        "assert float(torch_version[:3]) >= 1.5   # make sure 1.5 or higher\n",
        "torch_version\n"
      ],
      "execution_count": 2,
      "outputs": [
        {
          "output_type": "execute_result",
          "data": {
            "text/plain": [
              "'1.5.0+cu101'"
            ]
          },
          "metadata": {
            "tags": []
          },
          "execution_count": 2
        }
      ]
    },
    {
      "cell_type": "code",
      "metadata": {
        "id": "-gWOU5TSkR4h",
        "colab_type": "code",
        "colab": {
          "base_uri": "https://localhost:8080/",
          "height": 391
        },
        "outputId": "da5fa7d8-48d1-45d5-b427-22968d2c8397"
      },
      "source": [
        "!pip install -U 'git+https://github.com/cocodataset/cocoapi.git#subdirectory=PythonAPI'   #for coco apis\n"
      ],
      "execution_count": 3,
      "outputs": [
        {
          "output_type": "stream",
          "text": [
            "Collecting git+https://github.com/cocodataset/cocoapi.git#subdirectory=PythonAPI\n",
            "  Cloning https://github.com/cocodataset/cocoapi.git to /tmp/pip-req-build-dzj2pnvd\n",
            "  Running command git clone -q https://github.com/cocodataset/cocoapi.git /tmp/pip-req-build-dzj2pnvd\n",
            "Requirement already satisfied, skipping upgrade: setuptools>=18.0 in /usr/local/lib/python3.6/dist-packages (from pycocotools==2.0) (47.1.1)\n",
            "Requirement already satisfied, skipping upgrade: cython>=0.27.3 in /usr/local/lib/python3.6/dist-packages (from pycocotools==2.0) (0.29.19)\n",
            "Requirement already satisfied, skipping upgrade: matplotlib>=2.1.0 in /usr/local/lib/python3.6/dist-packages (from pycocotools==2.0) (3.2.1)\n",
            "Requirement already satisfied, skipping upgrade: numpy>=1.11 in /usr/local/lib/python3.6/dist-packages (from matplotlib>=2.1.0->pycocotools==2.0) (1.18.5)\n",
            "Requirement already satisfied, skipping upgrade: pyparsing!=2.0.4,!=2.1.2,!=2.1.6,>=2.0.1 in /usr/local/lib/python3.6/dist-packages (from matplotlib>=2.1.0->pycocotools==2.0) (2.4.7)\n",
            "Requirement already satisfied, skipping upgrade: kiwisolver>=1.0.1 in /usr/local/lib/python3.6/dist-packages (from matplotlib>=2.1.0->pycocotools==2.0) (1.2.0)\n",
            "Requirement already satisfied, skipping upgrade: python-dateutil>=2.1 in /usr/local/lib/python3.6/dist-packages (from matplotlib>=2.1.0->pycocotools==2.0) (2.8.1)\n",
            "Requirement already satisfied, skipping upgrade: cycler>=0.10 in /usr/local/lib/python3.6/dist-packages (from matplotlib>=2.1.0->pycocotools==2.0) (0.10.0)\n",
            "Requirement already satisfied, skipping upgrade: six>=1.5 in /usr/local/lib/python3.6/dist-packages (from python-dateutil>=2.1->matplotlib>=2.1.0->pycocotools==2.0) (1.12.0)\n",
            "Building wheels for collected packages: pycocotools\n",
            "  Building wheel for pycocotools (setup.py) ... \u001b[?25l\u001b[?25hdone\n",
            "  Created wheel for pycocotools: filename=pycocotools-2.0-cp36-cp36m-linux_x86_64.whl size=267008 sha256=7e073082ec8a7cf991c22cdecb7cf84aa6f59d42fe0f915d1685bf673a9c861a\n",
            "  Stored in directory: /tmp/pip-ephem-wheel-cache-38g2aufi/wheels/90/51/41/646daf401c3bc408ff10de34ec76587a9b3ebfac8d21ca5c3a\n",
            "Successfully built pycocotools\n",
            "Installing collected packages: pycocotools\n",
            "  Found existing installation: pycocotools 2.0.0\n",
            "    Uninstalling pycocotools-2.0.0:\n",
            "      Successfully uninstalled pycocotools-2.0.0\n",
            "Successfully installed pycocotools-2.0\n"
          ],
          "name": "stdout"
        }
      ]
    },
    {
      "cell_type": "code",
      "metadata": {
        "id": "XyktRgDBmGJL",
        "colab_type": "code",
        "colab": {
          "base_uri": "https://localhost:8080/",
          "height": 102
        },
        "outputId": "8f563fe2-9d40-4362-a530-6d2174d48a3f"
      },
      "source": [
        "!git clone https://github.com/facebookresearch/detr.git  #install detr \n"
      ],
      "execution_count": 4,
      "outputs": [
        {
          "output_type": "stream",
          "text": [
            "Cloning into 'detr'...\n",
            "remote: Enumerating objects: 115, done.\u001b[K\n",
            "remote: Total 115 (delta 0), reused 0 (delta 0), pack-reused 115\u001b[K\n",
            "Receiving objects: 100% (115/115), 7.27 MiB | 27.57 MiB/s, done.\n",
            "Resolving deltas: 100% (49/49), done.\n"
          ],
          "name": "stdout"
        }
      ]
    },
    {
      "cell_type": "code",
      "metadata": {
        "id": "Xi41LytAmQlO",
        "colab_type": "code",
        "colab": {
          "base_uri": "https://localhost:8080/",
          "height": 34
        },
        "outputId": "da19a26d-5ebe-4eee-a672-3ad23977237c"
      },
      "source": [
        "from pathlib import Path as p; p.cwd()  # make sure we know where we are"
      ],
      "execution_count": 6,
      "outputs": [
        {
          "output_type": "execute_result",
          "data": {
            "text/plain": [
              "PosixPath('/content')"
            ]
          },
          "metadata": {
            "tags": []
          },
          "execution_count": 6
        }
      ]
    },
    {
      "cell_type": "code",
      "metadata": {
        "id": "FosHaW_wmWpl",
        "colab_type": "code",
        "colab": {
          "base_uri": "https://localhost:8080/",
          "height": 34
        },
        "outputId": "d5deb782-e259-47d5-8d24-476966c88655"
      },
      "source": [
        "!ls "
      ],
      "execution_count": 5,
      "outputs": [
        {
          "output_type": "stream",
          "text": [
            "detr  sample_data\n"
          ],
          "name": "stdout"
        }
      ]
    },
    {
      "cell_type": "code",
      "metadata": {
        "id": "A83Pkrp-mdAm",
        "colab_type": "code",
        "colab": {
          "base_uri": "https://localhost:8080/",
          "height": 34
        },
        "outputId": "4bb5c8fc-46f7-43c5-82f5-52ec89fa55d9"
      },
      "source": [
        "%cd /content/detr  \n",
        "# move default dir to detr to begin..."
      ],
      "execution_count": 7,
      "outputs": [
        {
          "output_type": "stream",
          "text": [
            "/content/detr\n"
          ],
          "name": "stdout"
        }
      ]
    },
    {
      "cell_type": "code",
      "metadata": {
        "id": "5hbO2QlCnJa4",
        "colab_type": "code",
        "colab": {
          "base_uri": "https://localhost:8080/",
          "height": 68
        },
        "outputId": "016d9748-9086-4be5-ebef-5441a800fb3b"
      },
      "source": [
        "!ls   # make sure everything looks good"
      ],
      "execution_count": 8,
      "outputs": [
        {
          "output_type": "stream",
          "text": [
            "datasets    hubconf.py\tmodels\t\t  run_with_submitit.py\tutil\n",
            "Dockerfile  LICENSE\tREADME.md\t  test_all.py\n",
            "engine.py   main.py\trequirements.txt  tox.ini\n"
          ],
          "name": "stdout"
        }
      ]
    },
    {
      "cell_type": "markdown",
      "metadata": {
        "id": "c1dXtQaPoVPg",
        "colab_type": "text"
      },
      "source": [
        "# Create a new model with blank fine tuning section for your dataset\n"
      ]
    },
    {
      "cell_type": "code",
      "metadata": {
        "id": "muKd7G2FofhP",
        "colab_type": "code",
        "colab": {}
      },
      "source": [
        "from PIL import Image\n",
        "import requests\n",
        "import matplotlib.pyplot as plt\n",
        "%config InlineBackend.figure_format = 'retina'\n",
        "\n",
        "import torch\n",
        "from torch import nn\n",
        "#from torchvision.models import resnet50\n",
        "import torchvision.transforms as T"
      ],
      "execution_count": 0,
      "outputs": []
    },
    {
      "cell_type": "code",
      "metadata": {
        "id": "UMmTsZ2toi93",
        "colab_type": "code",
        "colab": {
          "base_uri": "https://localhost:8080/",
          "height": 204
        },
        "outputId": "b5a99a4d-eb1b-4eb9-ad5c-197d8eb53f47"
      },
      "source": [
        "# download the latest pre-trained weights for detr with resnet50 backbone:\n",
        "# detr resnet 50 backbone and head\n",
        "!wget https://dl.fbaipublicfiles.com/detr/detr-r50-e632da11.pth\n",
        "\n",
        "# or use resnet 101...we'll use res50 for this colab:\n",
        "# !wget https://dl.fbaipublicfiles.com/detr/detr-r101-2c7b67e5.pth\n",
        "\n",
        "# Additional info - skip if you like:\n",
        "\n",
        "# 1 - over time, you want to check if these weight links above become outdated (i.e. newer weights are available) \n",
        "# weight listings are located at:  https://github.com/facebookresearch/detr#model-zoo\n",
        "  \n",
        "# 2 - Further note - there are DC5 (dc = dilated convolutions) models for both resnet50 and resnet101.  \n",
        "# Both are a bit more accurate than their regular counterpart, but increase memory consumption 2x \n",
        "# and are hard to train as a result (CUDA out of memory errors)...we will use plain resnet50 here."
      ],
      "execution_count": 10,
      "outputs": [
        {
          "output_type": "stream",
          "text": [
            "--2020-06-14 21:28:23--  https://dl.fbaipublicfiles.com/detr/detr-r50-e632da11.pth\n",
            "Resolving dl.fbaipublicfiles.com (dl.fbaipublicfiles.com)... 172.67.9.4, 104.22.74.142, 104.22.75.142, ...\n",
            "Connecting to dl.fbaipublicfiles.com (dl.fbaipublicfiles.com)|172.67.9.4|:443... connected.\n",
            "HTTP request sent, awaiting response... 200 OK\n",
            "Length: 166618694 (159M) [application/octet-stream]\n",
            "Saving to: ‘detr-r50-e632da11.pth’\n",
            "\n",
            "detr-r50-e632da11.p 100%[===================>] 158.90M  22.3MB/s    in 7.7s    \n",
            "\n",
            "2020-06-14 21:28:31 (20.6 MB/s) - ‘detr-r50-e632da11.pth’ saved [166618694/166618694]\n",
            "\n"
          ],
          "name": "stdout"
        }
      ]
    },
    {
      "cell_type": "code",
      "metadata": {
        "id": "OuuxaDZYpMKP",
        "colab_type": "code",
        "colab": {}
      },
      "source": [
        "# we need to load the weights, clip out the two layers we want to train, and then save it back out:\n",
        "checkpoint = torch.load(\"detr-r50-e632da11.pth\", map_location='cpu')\n",
        "del checkpoint[\"model\"][\"class_embed.weight\"]\n",
        "del checkpoint[\"model\"][\"class_embed.bias\"]\n",
        "torch.save(checkpoint,\"detr-r50_ready_to_train.pth\")\n"
      ],
      "execution_count": 0,
      "outputs": []
    },
    {
      "cell_type": "code",
      "metadata": {
        "id": "8FL0oq5x83WM",
        "colab_type": "code",
        "colab": {}
      },
      "source": [
        "# build a model for training and adjust num_classes for your dataset"
      ],
      "execution_count": 0,
      "outputs": []
    },
    {
      "cell_type": "code",
      "metadata": {
        "id": "BRAxpbyd83xN",
        "colab_type": "code",
        "colab": {}
      },
      "source": [
        "import argparse\n",
        "import datetime\n",
        "import json\n",
        "import random\n",
        "import time\n",
        "from pathlib import Path\n",
        "\n",
        "import numpy as np\n",
        "import torch\n",
        "from torch.utils.data import DataLoader, DistributedSampler\n",
        "\n",
        "import datasets\n",
        "import util.misc as utils\n",
        "from datasets import build_dataset, get_coco_api_from_dataset\n",
        "from engine import evaluate, train_one_epoch\n",
        "from models import build_model\n",
        "\n"
      ],
      "execution_count": 0,
      "outputs": []
    },
    {
      "cell_type": "code",
      "metadata": {
        "id": "-gNp5D9W83wZ",
        "colab_type": "code",
        "colab": {}
      },
      "source": [
        "# pull the args from main.py (the main detr training script) so we can use here in colab to make our model\n",
        "from main import get_args_parser  \n",
        "args_parser = get_args_parser()\n",
        "args = args_parser.parse_args(\"\")\n"
      ],
      "execution_count": 0,
      "outputs": []
    },
    {
      "cell_type": "code",
      "metadata": {
        "id": "K8qbmMF083v2",
        "colab_type": "code",
        "colab": {
          "base_uri": "https://localhost:8080/",
          "height": 54
        },
        "outputId": "e445f476-36d4-4553-8af4-50fc56d935a9"
      },
      "source": [
        "args"
      ],
      "execution_count": 14,
      "outputs": [
        {
          "output_type": "execute_result",
          "data": {
            "text/plain": [
              "Namespace(aux_loss=True, backbone='resnet50', batch_size=2, bbox_loss_coef=5, clip_max_norm=0.1, coco_panoptic_path=None, coco_path=None, dataset_file='coco', dec_layers=6, device='cuda', dice_loss_coef=1, dilation=False, dim_feedforward=2048, dist_url='env://', dropout=0.1, enc_layers=6, eos_coef=0.1, epochs=300, eval=False, frozen_weights=None, giou_loss_coef=2, hidden_dim=256, lr=0.0001, lr_backbone=1e-05, lr_drop=200, mask_loss_coef=1, masks=False, nheads=8, num_queries=100, num_workers=2, output_dir='', position_embedding='sine', pre_norm=False, remove_difficult=False, resume='', seed=42, set_cost_bbox=5, set_cost_class=1, set_cost_giou=2, start_epoch=0, weight_decay=0.0001, world_size=1)"
            ]
          },
          "metadata": {
            "tags": []
          },
          "execution_count": 14
        }
      ]
    },
    {
      "cell_type": "code",
      "metadata": {
        "id": "bJsBIpEi83vW",
        "colab_type": "code",
        "colab": {}
      },
      "source": [
        ""
      ],
      "execution_count": 0,
      "outputs": []
    },
    {
      "cell_type": "code",
      "metadata": {
        "id": "iKLq-j8Osb6S",
        "colab_type": "code",
        "colab": {}
      },
      "source": [
        "# Customize your dataset  - must be COCO format.\n",
        "# I created my own wrapper to remap class ids, show how to do that?  is that best way...\n"
      ],
      "execution_count": 0,
      "outputs": []
    },
    {
      "cell_type": "code",
      "metadata": {
        "id": "Jmft5mi-uTsw",
        "colab_type": "code",
        "colab": {}
      },
      "source": [
        "# adjust num_classes - via command line or adjust code (PR?)"
      ],
      "execution_count": 0,
      "outputs": []
    },
    {
      "cell_type": "code",
      "metadata": {
        "id": "MAiAqylhuUvS",
        "colab_type": "code",
        "colab": {}
      },
      "source": [
        "# training - in notebook as exposed or run as shell?"
      ],
      "execution_count": 0,
      "outputs": []
    },
    {
      "cell_type": "code",
      "metadata": {
        "id": "WJQLVaeJuUxp",
        "colab_type": "code",
        "colab": {}
      },
      "source": [
        "# visuals - check plots for progress\n"
      ],
      "execution_count": 0,
      "outputs": []
    },
    {
      "cell_type": "code",
      "metadata": {
        "id": "JcrWjLyRuiOr",
        "colab_type": "code",
        "colab": {}
      },
      "source": [
        ""
      ],
      "execution_count": 0,
      "outputs": []
    }
  ]
}