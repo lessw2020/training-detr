{
  "nbformat": 4,
  "nbformat_minor": 0,
  "metadata": {
    "colab": {
      "name": "training-detr-colab.ipynb",
      "provenance": [],
      "collapsed_sections": [],
      "toc_visible": true,
      "authorship_tag": "ABX9TyMfZDQfRooIBl0kvmQnD4Ya",
      "include_colab_link": true
    },
    "kernelspec": {
      "name": "python3",
      "display_name": "Python 3"
    },
    "accelerator": "GPU"
  },
  "cells": [
    {
      "cell_type": "markdown",
      "metadata": {
        "id": "view-in-github",
        "colab_type": "text"
      },
      "source": [
        "<a href=\"https://colab.research.google.com/github/lessw2020/training-detr/blob/master/training_detr_colab.ipynb\" target=\"_parent\"><img src=\"https://colab.research.google.com/assets/colab-badge.svg\" alt=\"Open In Colab\"/></a>"
      ]
    },
    {
      "cell_type": "code",
      "metadata": {
        "id": "NCiJfalnicoB",
        "colab_type": "code",
        "colab": {}
      },
      "source": [
        "# Example of how to setup and train your own custom dataset using DETR\n",
        "# In this notebook, we'll do fine tuning of the existing head\n",
        "# For larger datasets (say > 10K images) training from scratch may be preferred and we'll do a different notebook for that\n",
        "\n"
      ],
      "execution_count": 1,
      "outputs": []
    },
    {
      "cell_type": "code",
      "metadata": {
        "id": "jQQ4ZxTViqM6",
        "colab_type": "code",
        "colab": {}
      },
      "source": [
        "# Credit to @alcinos and @fmassa for their insights, help and for making DETR :) and @mlk1337 and @raviv for additional input \n",
        "# thread on custom training with DETR is here:  \n",
        "# https://github.com/facebookresearch/detr/issues/9"
      ],
      "execution_count": null,
      "outputs": []
    },
    {
      "cell_type": "markdown",
      "metadata": {
        "id": "j8WA1xhIjcpF",
        "colab_type": "text"
      },
      "source": [
        "# Setup PyTorch environment and DETR"
      ]
    },
    {
      "cell_type": "code",
      "metadata": {
        "id": "kIb5jYdJjkeE",
        "colab_type": "code",
        "colab": {
          "base_uri": "https://localhost:8080/",
          "height": 102
        },
        "outputId": "049e7d9c-85ba-4779-82d2-fc57029cb643"
      },
      "source": [
        "!pip install torch torchvision\n"
      ],
      "execution_count": 2,
      "outputs": [
        {
          "output_type": "stream",
          "text": [
            "Requirement already satisfied: torch in /usr/local/lib/python3.6/dist-packages (1.5.1+cu101)\n",
            "Requirement already satisfied: torchvision in /usr/local/lib/python3.6/dist-packages (0.6.1+cu101)\n",
            "Requirement already satisfied: numpy in /usr/local/lib/python3.6/dist-packages (from torch) (1.18.5)\n",
            "Requirement already satisfied: future in /usr/local/lib/python3.6/dist-packages (from torch) (0.16.0)\n",
            "Requirement already satisfied: pillow>=4.1.1 in /usr/local/lib/python3.6/dist-packages (from torchvision) (7.0.0)\n"
          ],
          "name": "stdout"
        }
      ]
    },
    {
      "cell_type": "code",
      "metadata": {
        "id": "4M0S4GIHj3qE",
        "colab_type": "code",
        "colab": {
          "base_uri": "https://localhost:8080/",
          "height": 35
        },
        "outputId": "564bcb4f-915b-41c0-c5e8-e005a3587b47"
      },
      "source": [
        "import torch; \n",
        "torch_version = torch.__version__\n",
        "assert float(torch_version[:3]) >= 1.5   # make sure 1.5 or higher\n",
        "torch_version\n"
      ],
      "execution_count": 3,
      "outputs": [
        {
          "output_type": "execute_result",
          "data": {
            "application/vnd.google.colaboratory.intrinsic": {
              "type": "string"
            },
            "text/plain": [
              "'1.5.1+cu101'"
            ]
          },
          "metadata": {
            "tags": []
          },
          "execution_count": 3
        }
      ]
    },
    {
      "cell_type": "code",
      "metadata": {
        "id": "-gWOU5TSkR4h",
        "colab_type": "code",
        "colab": {
          "base_uri": "https://localhost:8080/",
          "height": 411
        },
        "outputId": "c0530158-98d5-4f9d-9eba-fc57b2ff521f"
      },
      "source": [
        "!pip install -U 'git+https://github.com/cocodataset/cocoapi.git#subdirectory=PythonAPI'   #for coco apis\n"
      ],
      "execution_count": 4,
      "outputs": [
        {
          "output_type": "stream",
          "text": [
            "Collecting git+https://github.com/cocodataset/cocoapi.git#subdirectory=PythonAPI\n",
            "  Cloning https://github.com/cocodataset/cocoapi.git to /tmp/pip-req-build-dnv0a1e2\n",
            "  Running command git clone -q https://github.com/cocodataset/cocoapi.git /tmp/pip-req-build-dnv0a1e2\n",
            "Requirement already satisfied, skipping upgrade: setuptools>=18.0 in /usr/local/lib/python3.6/dist-packages (from pycocotools==2.0) (47.3.1)\n",
            "Requirement already satisfied, skipping upgrade: cython>=0.27.3 in /usr/local/lib/python3.6/dist-packages (from pycocotools==2.0) (0.29.20)\n",
            "Requirement already satisfied, skipping upgrade: matplotlib>=2.1.0 in /usr/local/lib/python3.6/dist-packages (from pycocotools==2.0) (3.2.2)\n",
            "Requirement already satisfied, skipping upgrade: pyparsing!=2.0.4,!=2.1.2,!=2.1.6,>=2.0.1 in /usr/local/lib/python3.6/dist-packages (from matplotlib>=2.1.0->pycocotools==2.0) (2.4.7)\n",
            "Requirement already satisfied, skipping upgrade: python-dateutil>=2.1 in /usr/local/lib/python3.6/dist-packages (from matplotlib>=2.1.0->pycocotools==2.0) (2.8.1)\n",
            "Requirement already satisfied, skipping upgrade: numpy>=1.11 in /usr/local/lib/python3.6/dist-packages (from matplotlib>=2.1.0->pycocotools==2.0) (1.18.5)\n",
            "Requirement already satisfied, skipping upgrade: cycler>=0.10 in /usr/local/lib/python3.6/dist-packages (from matplotlib>=2.1.0->pycocotools==2.0) (0.10.0)\n",
            "Requirement already satisfied, skipping upgrade: kiwisolver>=1.0.1 in /usr/local/lib/python3.6/dist-packages (from matplotlib>=2.1.0->pycocotools==2.0) (1.2.0)\n",
            "Requirement already satisfied, skipping upgrade: six>=1.5 in /usr/local/lib/python3.6/dist-packages (from python-dateutil>=2.1->matplotlib>=2.1.0->pycocotools==2.0) (1.12.0)\n",
            "Building wheels for collected packages: pycocotools\n",
            "  Building wheel for pycocotools (setup.py) ... \u001b[?25l\u001b[?25hdone\n",
            "  Created wheel for pycocotools: filename=pycocotools-2.0-cp36-cp36m-linux_x86_64.whl size=266985 sha256=7158f21d08dc514913f1d9826fe88775f0abbd744e84d3e6fe2f98067bb2d190\n",
            "  Stored in directory: /tmp/pip-ephem-wheel-cache-4vwsudsx/wheels/90/51/41/646daf401c3bc408ff10de34ec76587a9b3ebfac8d21ca5c3a\n",
            "Successfully built pycocotools\n",
            "Installing collected packages: pycocotools\n",
            "  Found existing installation: pycocotools 2.0.1\n",
            "    Uninstalling pycocotools-2.0.1:\n",
            "      Successfully uninstalled pycocotools-2.0.1\n",
            "Successfully installed pycocotools-2.0\n"
          ],
          "name": "stdout"
        }
      ]
    },
    {
      "cell_type": "code",
      "metadata": {
        "id": "XyktRgDBmGJL",
        "colab_type": "code",
        "colab": {
          "base_uri": "https://localhost:8080/",
          "height": 136
        },
        "outputId": "3c55eaeb-4b85-4e56-cfa7-0493106a2f6a"
      },
      "source": [
        "!git clone https://github.com/facebookresearch/detr.git  #install detr \n"
      ],
      "execution_count": 5,
      "outputs": [
        {
          "output_type": "stream",
          "text": [
            "Cloning into 'detr'...\n",
            "remote: Enumerating objects: 21, done.\u001b[K\n",
            "remote: Counting objects: 100% (21/21), done.\u001b[K\n",
            "remote: Compressing objects: 100% (21/21), done.\u001b[K\n",
            "remote: Total 148 (delta 2), reused 13 (delta 0), pack-reused 127\u001b[K\n",
            "Receiving objects: 100% (148/148), 12.81 MiB | 5.71 MiB/s, done.\n",
            "Resolving deltas: 100% (60/60), done.\n"
          ],
          "name": "stdout"
        }
      ]
    },
    {
      "cell_type": "code",
      "metadata": {
        "id": "Xi41LytAmQlO",
        "colab_type": "code",
        "colab": {
          "base_uri": "https://localhost:8080/",
          "height": 34
        },
        "outputId": "3c2f170e-7797-4a35-81fa-6c80ebfbbbd6"
      },
      "source": [
        "from pathlib import Path as p; p.cwd()  # make sure we know where we are"
      ],
      "execution_count": 4,
      "outputs": [
        {
          "output_type": "execute_result",
          "data": {
            "text/plain": [
              "PosixPath('/content')"
            ]
          },
          "metadata": {
            "tags": []
          },
          "execution_count": 4
        }
      ]
    },
    {
      "cell_type": "code",
      "metadata": {
        "id": "FosHaW_wmWpl",
        "colab_type": "code",
        "colab": {
          "base_uri": "https://localhost:8080/",
          "height": 34
        },
        "outputId": "a518cae9-df0e-464c-8674-c58f68e1442e"
      },
      "source": [
        "!ls "
      ],
      "execution_count": 5,
      "outputs": [
        {
          "output_type": "stream",
          "text": [
            "detr  sample_data\n"
          ],
          "name": "stdout"
        }
      ]
    },
    {
      "cell_type": "code",
      "metadata": {
        "id": "A83Pkrp-mdAm",
        "colab_type": "code",
        "colab": {
          "base_uri": "https://localhost:8080/",
          "height": 34
        },
        "outputId": "fcfa9833-8385-48b0-b6cc-f23a6961529c"
      },
      "source": [
        "%cd /content/detr  \n",
        "# move default dir to detr to begin..."
      ],
      "execution_count": 6,
      "outputs": [
        {
          "output_type": "stream",
          "text": [
            "/content/detr\n"
          ],
          "name": "stdout"
        }
      ]
    },
    {
      "cell_type": "code",
      "metadata": {
        "id": "5hbO2QlCnJa4",
        "colab_type": "code",
        "colab": {
          "base_uri": "https://localhost:8080/",
          "height": 102
        },
        "outputId": "98521d97-3502-4b08-b09c-0a73315a400e"
      },
      "source": [
        "!ls   # make sure everything looks good"
      ],
      "execution_count": 7,
      "outputs": [
        {
          "output_type": "stream",
          "text": [
            "d2\t\t\t     engine.py\t models\t\t       test_all.py\n",
            "datasets\t\t     hubconf.py  __pycache__\t       tox.ini\n",
            "detr-r50-e632da11.pth\t     LICENSE\t README.md\t       util\n",
            "detr-r50_ready_to_train.pth  logdirs\t requirements.txt\n",
            "Dockerfile\t\t     main.py\t run_with_submitit.py\n"
          ],
          "name": "stdout"
        }
      ]
    },
    {
      "cell_type": "markdown",
      "metadata": {
        "id": "c1dXtQaPoVPg",
        "colab_type": "text"
      },
      "source": [
        "# Create a new model with blank fine tuning section for your dataset\n"
      ]
    },
    {
      "cell_type": "code",
      "metadata": {
        "id": "muKd7G2FofhP",
        "colab_type": "code",
        "colab": {}
      },
      "source": [
        "from PIL import Image\n",
        "import requests\n",
        "import matplotlib.pyplot as plt\n",
        "%config InlineBackend.figure_format = 'retina'\n",
        "\n",
        "import torch\n",
        "from torch import nn\n",
        "#from torchvision.models import resnet50\n",
        "import torchvision.transforms as T"
      ],
      "execution_count": 8,
      "outputs": []
    },
    {
      "cell_type": "code",
      "metadata": {
        "id": "UMmTsZ2toi93",
        "colab_type": "code",
        "colab": {
          "base_uri": "https://localhost:8080/",
          "height": 204
        },
        "outputId": "bb79586e-c33f-473a-ad4a-276201bae94a"
      },
      "source": [
        "# download the latest pre-trained weights for detr with resnet50 backbone:\n",
        "# detr resnet 50 backbone and head\n",
        "!wget https://dl.fbaipublicfiles.com/detr/detr-r50-e632da11.pth\n",
        "\n",
        "# or use resnet 101...we'll use res50 for this colab:\n",
        "# !wget https://dl.fbaipublicfiles.com/detr/detr-r101-2c7b67e5.pth\n",
        "\n",
        "# Additional info - skip if you like:\n",
        "\n",
        "# 1 - over time, you want to check if these weight links above become outdated (i.e. newer weights are available) \n",
        "# weight listings are located at:  https://github.com/facebookresearch/detr#model-zoo\n",
        "  \n",
        "# 2 - Further note - there are DC5 (dc = dilated convolutions) models for both resnet50 and resnet101.  \n",
        "# Both are a bit more accurate than their regular counterpart, but increase memory consumption 2x \n",
        "# and are hard to train as a result (CUDA out of memory errors)...we will use plain resnet50 here."
      ],
      "execution_count": 12,
      "outputs": [
        {
          "output_type": "stream",
          "text": [
            "--2020-06-29 01:26:44--  https://dl.fbaipublicfiles.com/detr/detr-r50-e632da11.pth\n",
            "Resolving dl.fbaipublicfiles.com (dl.fbaipublicfiles.com)... 104.22.75.142, 172.67.9.4, 104.22.74.142, ...\n",
            "Connecting to dl.fbaipublicfiles.com (dl.fbaipublicfiles.com)|104.22.75.142|:443... connected.\n",
            "HTTP request sent, awaiting response... 200 OK\n",
            "Length: 166618694 (159M) [application/octet-stream]\n",
            "Saving to: ‘detr-r50-e632da11.pth’\n",
            "\n",
            "detr-r50-e632da11.p 100%[===================>] 158.90M   899KB/s    in 57s     \n",
            "\n",
            "2020-06-29 01:27:42 (2.79 MB/s) - ‘detr-r50-e632da11.pth’ saved [166618694/166618694]\n",
            "\n"
          ],
          "name": "stdout"
        }
      ]
    },
    {
      "cell_type": "code",
      "metadata": {
        "id": "OuuxaDZYpMKP",
        "colab_type": "code",
        "colab": {}
      },
      "source": [
        "# we need to load the weights, clip out the two layers we want to train, and then save it back out:\n",
        "checkpoint = torch.load(\"detr-r50-e632da11.pth\", map_location='cpu')\n",
        "del checkpoint[\"model\"][\"class_embed.weight\"]\n",
        "del checkpoint[\"model\"][\"class_embed.bias\"]\n",
        "torch.save(checkpoint,\"detr-r50_ready_to_train.pth\")\n"
      ],
      "execution_count": 13,
      "outputs": []
    },
    {
      "cell_type": "code",
      "metadata": {
        "id": "8FL0oq5x83WM",
        "colab_type": "code",
        "colab": {}
      },
      "source": [
        "# build a model for training and adjust num_classes for your dataset"
      ],
      "execution_count": null,
      "outputs": []
    },
    {
      "cell_type": "code",
      "metadata": {
        "id": "BRAxpbyd83xN",
        "colab_type": "code",
        "colab": {}
      },
      "source": [
        "import argparse\n",
        "import datetime\n",
        "import json\n",
        "import random\n",
        "import time\n",
        "from pathlib import Path\n",
        "\n",
        "import numpy as np\n",
        "import torch\n",
        "from torch.utils.data import DataLoader, DistributedSampler\n",
        "\n",
        "import datasets\n",
        "import util.misc as utils\n",
        "from datasets import build_dataset, get_coco_api_from_dataset\n",
        "from engine import evaluate, train_one_epoch\n",
        "from models import build_model\n",
        "\n"
      ],
      "execution_count": 9,
      "outputs": []
    },
    {
      "cell_type": "code",
      "metadata": {
        "id": "-gNp5D9W83wZ",
        "colab_type": "code",
        "colab": {
          "base_uri": "https://localhost:8080/",
          "height": 34
        },
        "outputId": "0fb9a236-231a-4895-b04c-e68dcb1d2729"
      },
      "source": [
        "# pull the args from main.py (the main detr training script) so we can use here in colab to make our model\n",
        "from main import get_args_parser \n",
        "\n",
        "args_parser = get_args_parser()\n",
        "args = args_parser.parse_args(\"\")\n",
        "\n",
        "#add our own args for customization\n",
        "args_parser.add_argument(\"--num_classes\", type=int, default=20)\n",
        "\n"
      ],
      "execution_count": 10,
      "outputs": [
        {
          "output_type": "execute_result",
          "data": {
            "text/plain": [
              "_StoreAction(option_strings=['--num_classes'], dest='num_classes', nargs=None, const=None, default=20, type=<class 'int'>, choices=None, help=None, metavar=None)"
            ]
          },
          "metadata": {
            "tags": []
          },
          "execution_count": 10
        }
      ]
    },
    {
      "cell_type": "code",
      "metadata": {
        "id": "kzbr_cTSsBoy",
        "colab_type": "code",
        "colab": {}
      },
      "source": [
        "# a more permanent fix is to adjust main.py directly (or better make a copy of main.py and adjust ala - mymain.py) and add the following:\n",
        "# # Model parameters\n",
        "    parser.add_argument('--num_classes', type=int, default=20,\n",
        "                        help=\"Number of classes in your dataset. Overridden by coco and coco_panoptic datasets\")\n"
      ],
      "execution_count": null,
      "outputs": []
    },
    {
      "cell_type": "code",
      "metadata": {
        "id": "K8qbmMF083v2",
        "colab_type": "code",
        "colab": {
          "base_uri": "https://localhost:8080/",
          "height": 54
        },
        "outputId": "6e43e9fe-4930-4e99-c81c-0f07873d0c0d"
      },
      "source": [
        "args     #check we have a valid args dict with default params from main.py"
      ],
      "execution_count": 11,
      "outputs": [
        {
          "output_type": "execute_result",
          "data": {
            "text/plain": [
              "Namespace(aux_loss=True, backbone='resnet50', batch_size=2, bbox_loss_coef=5, clip_max_norm=0.1, coco_panoptic_path=None, coco_path=None, dataset_file='coco', dec_layers=6, device='cuda', dice_loss_coef=1, dilation=False, dim_feedforward=2048, dist_url='env://', dropout=0.1, enc_layers=6, eos_coef=0.1, epochs=300, eval=False, frozen_weights=None, giou_loss_coef=2, hidden_dim=256, lr=0.0001, lr_backbone=1e-05, lr_drop=200, mask_loss_coef=1, masks=False, nheads=8, num_queries=100, num_workers=2, output_dir='', position_embedding='sine', pre_norm=False, remove_difficult=False, resume='', seed=42, set_cost_bbox=5, set_cost_class=1, set_cost_giou=2, start_epoch=0, weight_decay=0.0001, world_size=1)"
            ]
          },
          "metadata": {
            "tags": []
          },
          "execution_count": 11
        }
      ]
    },
    {
      "cell_type": "code",
      "metadata": {
        "id": "bJsBIpEi83vW",
        "colab_type": "code",
        "colab": {}
      },
      "source": [
        "#customize the model - put only your number of classes in your dataset, period. \n",
        "args.num_classes =    6#@param\n"
      ],
      "execution_count": 12,
      "outputs": []
    },
    {
      "cell_type": "code",
      "metadata": {
        "id": "k4_N_kDowZoJ",
        "colab_type": "code",
        "colab": {}
      },
      "source": [
        "# Info note on above - DETR maintains a 'no object' class to fill in where no bounding box is predicted.  \n",
        "# DETR model adds that to your num_classes, so the final, true shape of the predictions is num_classes +1,  \n",
        "# you only input the actual classes in your dataset above."
      ],
      "execution_count": null,
      "outputs": []
    },
    {
      "cell_type": "code",
      "metadata": {
        "id": "9I7rwCgywqOI",
        "colab_type": "code",
        "colab": {
          "base_uri": "https://localhost:8080/",
          "height": 35
        },
        "outputId": "ee020997-40a9-40ce-c8fd-c3a99e8351b0"
      },
      "source": [
        "# output dir for logging during training\n",
        "my_detr_logdir = './logdirs/1'   #@param\n",
        "\n",
        "# makedir and add to args\n",
        "output_dir = p(my_detr_logdir)\n",
        "output_dir.mkdir(exist_ok=True, parents=True)  #make if doesn't exist\n",
        "\n",
        "args.output_dir = str(output_dir)\n",
        "args.output_dir\n",
        "\n"
      ],
      "execution_count": 13,
      "outputs": [
        {
          "output_type": "execute_result",
          "data": {
            "application/vnd.google.colaboratory.intrinsic": {
              "type": "string"
            },
            "text/plain": [
              "'logdirs/1'"
            ]
          },
          "metadata": {
            "tags": []
          },
          "execution_count": 13
        }
      ]
    },
    {
      "cell_type": "code",
      "metadata": {
        "id": "DHi72o7osjJ7",
        "colab_type": "code",
        "colab": {}
      },
      "source": [
        "# we have to make an update to ./models/detr.py to the build function to handle our custom number of classes:\n",
        "# 1 - open /content/detr/models/detr.py\n",
        "# 2 - find the build function  (def build(args)):\n",
        "# 2A - remove this block:\n",
        "     '''num_classes = 20 if args.dataset_file != 'coco' else 91\n",
        "    if args.dataset_file == \"coco_panoptic\":\n",
        "        num_classes = 250'''\n",
        "#3 - insert this code:\n",
        "    try:\n",
        "        num_classes = args.num_classes\n",
        "    except AttributeError:\n",
        "        num_classes = 20  # default to 20 for backwards compat if missing args.num_classes\n",
        "\n",
        "    # over-ride num_classes for known datasets:\n",
        "    if args.dataset_file == 'coco':\n",
        "        num_classes = 91\n",
        "\n",
        "    if args.dataset_file == 'coco_panoptic':\n",
        "        num_classes = 250\n",
        "\n",
        "    print(f\"---> num_classes = {num_classes}\")\n",
        "    print(f\"for dataset:  {args.dataset_file}\")\n",
        "# ----------\n",
        "# next line should be :  \"device = torch.device(args.device)\"\n",
        "\n",
        "# 4 - save detr.py\n",
        "# reference - PR is in for the above:  https://github.com/facebookresearch/detr/pull/89/commits/d9d98d953e0331f279da377bc53d121a9e171ab7"
      ],
      "execution_count": null,
      "outputs": []
    },
    {
      "cell_type": "code",
      "metadata": {
        "id": "1TjIrnUvwEL4",
        "colab_type": "code",
        "colab": {}
      },
      "source": [
        "%load_ext autoreload\n",
        "%autoreload 2"
      ],
      "execution_count": 17,
      "outputs": []
    },
    {
      "cell_type": "code",
      "metadata": {
        "id": "cbqT0z4XwrIb",
        "colab_type": "code",
        "colab": {}
      },
      "source": [
        "# we have to update the args.dataset_file to our own name otherwise it will default to 'coco' and thus '91' classes\n",
        "args.dataset_file = 'mycoco'  #@param"
      ],
      "execution_count": 21,
      "outputs": []
    },
    {
      "cell_type": "code",
      "metadata": {
        "id": "7JMHa5XVwqNM",
        "colab_type": "code",
        "colab": {
          "base_uri": "https://localhost:8080/",
          "height": 51
        },
        "outputId": "651bd7ff-2c26-487f-d2f6-785e7fc3c766"
      },
      "source": [
        "# we are ready to make a model with our custom num_classes.  \n",
        "model, criterion, postprocessors = build_model(args)\n",
        "# model.to(device)\n"
      ],
      "execution_count": 23,
      "outputs": [
        {
          "output_type": "stream",
          "text": [
            "---> num_classes = 6\n",
            "for dataset:  mycoco\n"
          ],
          "name": "stdout"
        }
      ]
    },
    {
      "cell_type": "code",
      "metadata": {
        "id": "T8cYaxx-wpyT",
        "colab_type": "code",
        "colab": {
          "base_uri": "https://localhost:8080/",
          "height": 34
        },
        "outputId": "7c78c6b6-5a45-4d31-b4bc-4829fe157ed6"
      },
      "source": [
        "args.num_classes"
      ],
      "execution_count": 20,
      "outputs": [
        {
          "output_type": "execute_result",
          "data": {
            "text/plain": [
              "6"
            ]
          },
          "metadata": {
            "tags": []
          },
          "execution_count": 20
        }
      ]
    },
    {
      "cell_type": "code",
      "metadata": {
        "id": "ZQ1aVF2W27lR",
        "colab_type": "code",
        "colab": {}
      },
      "source": [
        ""
      ],
      "execution_count": null,
      "outputs": []
    },
    {
      "cell_type": "code",
      "metadata": {
        "id": "WXram1oYwpvD",
        "colab_type": "code",
        "colab": {
          "base_uri": "https://localhost:8080/",
          "height": 34
        },
        "outputId": "547ab09a-1b51-4d6d-cfe0-de6583f09c4a"
      },
      "source": [
        "# lets inspect our model and make sure custom classes is as we expect:\n",
        "# we expect the model to have num_classes+1 b/c we have to account for the 'no object class'\n",
        "m_classes = model.class_embed.out_features\n",
        "assert(m_classes == args.num_classes+1), \"num classes mismatch\"\n",
        "m_classes\n"
      ],
      "execution_count": 26,
      "outputs": [
        {
          "output_type": "execute_result",
          "data": {
            "text/plain": [
              "7"
            ]
          },
          "metadata": {
            "tags": []
          },
          "execution_count": 26
        }
      ]
    },
    {
      "cell_type": "code",
      "metadata": {
        "id": "HNMHQGGT281q",
        "colab_type": "code",
        "colab": {
          "base_uri": "https://localhost:8080/",
          "height": 34
        },
        "outputId": "b6ccb002-28f2-4e45-cf00-ccde76cf217a"
      },
      "source": [
        "# how big is our model: \n",
        "n_parameters = sum(p.numel() for p in model.parameters() if p.requires_grad)\n",
        "print('number of params:', n_parameters)\n"
      ],
      "execution_count": null,
      "outputs": [
        {
          "output_type": "stream",
          "text": [
            "number of params: 41302368\n"
          ],
          "name": "stdout"
        }
      ]
    },
    {
      "cell_type": "code",
      "metadata": {
        "id": "e9cqz5lu28ai",
        "colab_type": "code",
        "colab": {}
      },
      "source": [
        ""
      ],
      "execution_count": null,
      "outputs": []
    },
    {
      "cell_type": "code",
      "metadata": {
        "id": "iKLq-j8Osb6S",
        "colab_type": "code",
        "colab": {}
      },
      "source": [
        "# Customize your dataset  - must be COCO format.\n",
        "# I have added custom_dataset.py to the repo as a base for handling the class id remapping from your own coco\n"
      ],
      "execution_count": null,
      "outputs": []
    },
    {
      "cell_type": "code",
      "metadata": {
        "id": "Jmft5mi-uTsw",
        "colab_type": "code",
        "colab": {}
      },
      "source": [
        ""
      ],
      "execution_count": null,
      "outputs": []
    },
    {
      "cell_type": "code",
      "metadata": {
        "id": "MAiAqylhuUvS",
        "colab_type": "code",
        "colab": {}
      },
      "source": [
        "# training - in notebook as exposed or run as shell?"
      ],
      "execution_count": null,
      "outputs": []
    },
    {
      "cell_type": "code",
      "metadata": {
        "id": "WJQLVaeJuUxp",
        "colab_type": "code",
        "colab": {}
      },
      "source": [
        "# visuals - check plots for progress\n"
      ],
      "execution_count": null,
      "outputs": []
    },
    {
      "cell_type": "code",
      "metadata": {
        "id": "JcrWjLyRuiOr",
        "colab_type": "code",
        "colab": {}
      },
      "source": [
        "# inference - run predictions\n",
        "\n"
      ],
      "execution_count": null,
      "outputs": []
    }
  ]
}